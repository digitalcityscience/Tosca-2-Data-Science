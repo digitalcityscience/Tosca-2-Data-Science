{
 "cells": [
  {
   "cell_type": "code",
   "execution_count": 1,
   "id": "f9cb46f9-5f31-48bd-9d3f-bb2188ea324d",
   "metadata": {},
   "outputs": [],
   "source": [
    "import geopandas as gpd\n",
    "import numpy as np"
   ]
  },
  {
   "cell_type": "code",
   "execution_count": 2,
   "id": "5a4df539-1591-4eec-a1be-4d55d96bf746",
   "metadata": {},
   "outputs": [],
   "source": [
    "gdf = gpd.read_file('./geo_data/Kochi_Roadways.shp')"
   ]
  },
  {
   "cell_type": "code",
   "execution_count": 3,
   "id": "7a85749c-0f21-4d6d-a7fb-ab86882526b9",
   "metadata": {},
   "outputs": [
    {
     "data": {
      "text/html": [
       "<div>\n",
       "<style scoped>\n",
       "    .dataframe tbody tr th:only-of-type {\n",
       "        vertical-align: middle;\n",
       "    }\n",
       "\n",
       "    .dataframe tbody tr th {\n",
       "        vertical-align: top;\n",
       "    }\n",
       "\n",
       "    .dataframe thead th {\n",
       "        text-align: right;\n",
       "    }\n",
       "</style>\n",
       "<table border=\"1\" class=\"dataframe\">\n",
       "  <thead>\n",
       "    <tr style=\"text-align: right;\">\n",
       "      <th></th>\n",
       "      <th>TYPE</th>\n",
       "      <th>NAME</th>\n",
       "      <th>geometry</th>\n",
       "    </tr>\n",
       "  </thead>\n",
       "  <tbody>\n",
       "    <tr>\n",
       "      <th>0</th>\n",
       "      <td>None</td>\n",
       "      <td>Towards Agatti Island</td>\n",
       "      <td>LINESTRING (632573.958 1102188.348, 625222.728...</td>\n",
       "    </tr>\n",
       "    <tr>\n",
       "      <th>1</th>\n",
       "      <td>None</td>\n",
       "      <td>Towards Kadmat Island</td>\n",
       "      <td>LINESTRING (625556.173 1104640.11, 632573.958 ...</td>\n",
       "    </tr>\n",
       "    <tr>\n",
       "      <th>2</th>\n",
       "      <td>None</td>\n",
       "      <td>Towards Minicoy Island</td>\n",
       "      <td>LINESTRING (632573.958 1102188.348, 631460.191...</td>\n",
       "    </tr>\n",
       "    <tr>\n",
       "      <th>3</th>\n",
       "      <td>tertiary</td>\n",
       "      <td>None</td>\n",
       "      <td>LINESTRING (628580.101 1126536.317, 628430.103...</td>\n",
       "    </tr>\n",
       "    <tr>\n",
       "      <th>4</th>\n",
       "      <td>tertiary</td>\n",
       "      <td>None</td>\n",
       "      <td>LINESTRING (629594.552 1119811.252, 629575.463...</td>\n",
       "    </tr>\n",
       "    <tr>\n",
       "      <th>...</th>\n",
       "      <td>...</td>\n",
       "      <td>...</td>\n",
       "      <td>...</td>\n",
       "    </tr>\n",
       "    <tr>\n",
       "      <th>1117</th>\n",
       "      <td>unclassified</td>\n",
       "      <td>None</td>\n",
       "      <td>LINESTRING (662109.994 1118014.144, 662156.668...</td>\n",
       "    </tr>\n",
       "    <tr>\n",
       "      <th>1118</th>\n",
       "      <td>unclassified</td>\n",
       "      <td>None</td>\n",
       "      <td>LINESTRING (662292.988 1118534.9, 662300.301 1...</td>\n",
       "    </tr>\n",
       "    <tr>\n",
       "      <th>1119</th>\n",
       "      <td>unclassified</td>\n",
       "      <td>None</td>\n",
       "      <td>LINESTRING (662511.134 1103540.394, 662503.1 1...</td>\n",
       "    </tr>\n",
       "    <tr>\n",
       "      <th>1120</th>\n",
       "      <td>unclassified</td>\n",
       "      <td>None</td>\n",
       "      <td>LINESTRING (662540.129 1103895.795, 662525.071...</td>\n",
       "    </tr>\n",
       "    <tr>\n",
       "      <th>1121</th>\n",
       "      <td>road</td>\n",
       "      <td>To Kodanadu</td>\n",
       "      <td>LINESTRING (665464.043 1120005.984, 665409.507...</td>\n",
       "    </tr>\n",
       "  </tbody>\n",
       "</table>\n",
       "<p>1122 rows × 3 columns</p>\n",
       "</div>"
      ],
      "text/plain": [
       "              TYPE                    NAME  \\\n",
       "0             None   Towards Agatti Island   \n",
       "1             None   Towards Kadmat Island   \n",
       "2             None  Towards Minicoy Island   \n",
       "3         tertiary                    None   \n",
       "4         tertiary                    None   \n",
       "...            ...                     ...   \n",
       "1117  unclassified                    None   \n",
       "1118  unclassified                    None   \n",
       "1119  unclassified                    None   \n",
       "1120  unclassified                    None   \n",
       "1121          road             To Kodanadu   \n",
       "\n",
       "                                               geometry  \n",
       "0     LINESTRING (632573.958 1102188.348, 625222.728...  \n",
       "1     LINESTRING (625556.173 1104640.11, 632573.958 ...  \n",
       "2     LINESTRING (632573.958 1102188.348, 631460.191...  \n",
       "3     LINESTRING (628580.101 1126536.317, 628430.103...  \n",
       "4     LINESTRING (629594.552 1119811.252, 629575.463...  \n",
       "...                                                 ...  \n",
       "1117  LINESTRING (662109.994 1118014.144, 662156.668...  \n",
       "1118  LINESTRING (662292.988 1118534.9, 662300.301 1...  \n",
       "1119  LINESTRING (662511.134 1103540.394, 662503.1 1...  \n",
       "1120  LINESTRING (662540.129 1103895.795, 662525.071...  \n",
       "1121  LINESTRING (665464.043 1120005.984, 665409.507...  \n",
       "\n",
       "[1122 rows x 3 columns]"
      ]
     },
     "execution_count": 3,
     "metadata": {},
     "output_type": "execute_result"
    }
   ],
   "source": [
    "gdf"
   ]
  },
  {
   "cell_type": "code",
   "execution_count": 4,
   "id": "f552a564-f26c-4120-8ef3-edf68c240507",
   "metadata": {},
   "outputs": [],
   "source": [
    "values_list = [4,6,8,10,15,20]"
   ]
  },
  {
   "cell_type": "code",
   "execution_count": 5,
   "id": "10ad323f-9169-4d6c-907b-a3200a8d0aed",
   "metadata": {},
   "outputs": [],
   "source": [
    "gdf['road_width'] = np.random.choice(values_list, size=len(gdf))"
   ]
  },
  {
   "cell_type": "code",
   "execution_count": 6,
   "id": "6f0f378a-becb-464f-bc03-b05f28a150dc",
   "metadata": {},
   "outputs": [
    {
     "data": {
      "text/plain": [
       "array([None, 'tertiary', 'residential', 'primary', 'unclassified',\n",
       "       'secondary', 'trunk', 'road', 'service', 'path', 'pedestrian',\n",
       "       'footway', 'track', 'primary_link', 'cycleway', 'construction',\n",
       "       'tertiary_link', 'steps', 'living_street'], dtype=object)"
      ]
     },
     "execution_count": 6,
     "metadata": {},
     "output_type": "execute_result"
    }
   ],
   "source": [
    "gdf[\"TYPE\"].unique()"
   ]
  },
  {
   "cell_type": "code",
   "execution_count": 7,
   "id": "9ab1bfff-948f-4be6-a325-aaf7f61349e5",
   "metadata": {},
   "outputs": [
    {
     "data": {
      "text/plain": [
       "array(['unclassified', 'tertiary', 'residential', 'primary', 'secondary',\n",
       "       'trunk', 'road', 'service', 'path', 'pedestrian', 'footway',\n",
       "       'track', 'primary_link', 'cycleway', 'construction',\n",
       "       'tertiary_link', 'steps', 'living_street'], dtype=object)"
      ]
     },
     "execution_count": 7,
     "metadata": {},
     "output_type": "execute_result"
    }
   ],
   "source": [
    "gdf[\"TYPE\"] = gdf[\"TYPE\"].fillna(\"unclassified\")\n",
    "gdf[\"TYPE\"].unique()"
   ]
  },
  {
   "cell_type": "code",
   "execution_count": 8,
   "id": "cc19d104-c81d-4513-8277-2808fe1f2b54",
   "metadata": {},
   "outputs": [
    {
     "data": {
      "text/html": [
       "<div>\n",
       "<style scoped>\n",
       "    .dataframe tbody tr th:only-of-type {\n",
       "        vertical-align: middle;\n",
       "    }\n",
       "\n",
       "    .dataframe tbody tr th {\n",
       "        vertical-align: top;\n",
       "    }\n",
       "\n",
       "    .dataframe thead th {\n",
       "        text-align: right;\n",
       "    }\n",
       "</style>\n",
       "<table border=\"1\" class=\"dataframe\">\n",
       "  <thead>\n",
       "    <tr style=\"text-align: right;\">\n",
       "      <th></th>\n",
       "      <th>TYPE</th>\n",
       "      <th>NAME</th>\n",
       "      <th>geometry</th>\n",
       "      <th>road_width</th>\n",
       "    </tr>\n",
       "  </thead>\n",
       "  <tbody>\n",
       "    <tr>\n",
       "      <th>0</th>\n",
       "      <td>unclassified</td>\n",
       "      <td>Towards Agatti Island</td>\n",
       "      <td>LINESTRING (632573.958 1102188.348, 625222.728...</td>\n",
       "      <td>8</td>\n",
       "    </tr>\n",
       "    <tr>\n",
       "      <th>1</th>\n",
       "      <td>unclassified</td>\n",
       "      <td>Towards Kadmat Island</td>\n",
       "      <td>LINESTRING (625556.173 1104640.11, 632573.958 ...</td>\n",
       "      <td>20</td>\n",
       "    </tr>\n",
       "    <tr>\n",
       "      <th>2</th>\n",
       "      <td>unclassified</td>\n",
       "      <td>Towards Minicoy Island</td>\n",
       "      <td>LINESTRING (632573.958 1102188.348, 631460.191...</td>\n",
       "      <td>20</td>\n",
       "    </tr>\n",
       "    <tr>\n",
       "      <th>3</th>\n",
       "      <td>tertiary</td>\n",
       "      <td>None</td>\n",
       "      <td>LINESTRING (628580.101 1126536.317, 628430.103...</td>\n",
       "      <td>15</td>\n",
       "    </tr>\n",
       "    <tr>\n",
       "      <th>4</th>\n",
       "      <td>tertiary</td>\n",
       "      <td>None</td>\n",
       "      <td>LINESTRING (629594.552 1119811.252, 629575.463...</td>\n",
       "      <td>15</td>\n",
       "    </tr>\n",
       "  </tbody>\n",
       "</table>\n",
       "</div>"
      ],
      "text/plain": [
       "           TYPE                    NAME  \\\n",
       "0  unclassified   Towards Agatti Island   \n",
       "1  unclassified   Towards Kadmat Island   \n",
       "2  unclassified  Towards Minicoy Island   \n",
       "3      tertiary                    None   \n",
       "4      tertiary                    None   \n",
       "\n",
       "                                            geometry  road_width  \n",
       "0  LINESTRING (632573.958 1102188.348, 625222.728...           8  \n",
       "1  LINESTRING (625556.173 1104640.11, 632573.958 ...          20  \n",
       "2  LINESTRING (632573.958 1102188.348, 631460.191...          20  \n",
       "3  LINESTRING (628580.101 1126536.317, 628430.103...          15  \n",
       "4  LINESTRING (629594.552 1119811.252, 629575.463...          15  "
      ]
     },
     "execution_count": 8,
     "metadata": {},
     "output_type": "execute_result"
    }
   ],
   "source": [
    "gdf.head()"
   ]
  },
  {
   "cell_type": "code",
   "execution_count": 9,
   "id": "9579f542-50fb-4bd1-8299-c826af9e3ab9",
   "metadata": {},
   "outputs": [],
   "source": [
    "gdf.to_file('./geo_data/Kochi_Roadways_with_width.gpkg', driver='GPKG', layer='kochi_roadways')"
   ]
  },
  {
   "cell_type": "code",
   "execution_count": null,
   "id": "1136c376-0199-4a75-9ca8-9f27ee3cdb02",
   "metadata": {},
   "outputs": [],
   "source": []
  },
  {
   "cell_type": "markdown",
   "id": "69341e5c-b8ef-4f63-b0d4-8f2b9348af4a",
   "metadata": {
    "collapsed": true,
    "jupyter": {
     "outputs_hidden": true
    }
   },
   "source": [
    "# Push data to POSTGIS\n",
    "\n",
    "```\n",
    "from sqlalchemy import create_engine\n",
    "\n",
    "# create DB variable\n",
    "db_user = 'your_username'\n",
    "db_password = 'your_password'\n",
    "db_host = 'localhost'\n",
    "db_port = '5432'\n",
    "db_name = 'your_database_name'\n",
    "\n",
    "engine = create_engine(f'postgresql://{db_user}:{db_password}@{db_host}:{db_port}/{db_name}')\n",
    "\n",
    "# Save gdf to Postgis\n",
    "gdf.to_postgis(name='your_table_name', con=engine, if_exists='replace', index=False)\n",
    "\n",
    "```\n",
    "\n",
    "For best practice we recomend to use **.env** file for DB credential. If you push your notebook to public repo your credential will no expose public.\n",
    "Please follow best practice for your data security\n",
    "\n",
    "Go to your folder and create .env file. You can use Vscode or other code editor.\n",
    "\n",
    "Create below settings.\n",
    "\n",
    "```\n",
    "DB_USER=your_username\n",
    "DB_PASSWORD=your_password\n",
    "DB_HOST=localhost\n",
    "DB_PORT=5432\n",
    "DB_NAME=your_database_name\n",
    "```\n",
    "With the below code, system will read your credential to create connection with DB.\n",
    "\n",
    "```\n",
    "import os\n",
    "from dotenv import load_dotenv\n",
    "import geopandas as gpd\n",
    "from sqlalchemy import create_engine\n",
    "\n",
    "# Upload .env  into system\n",
    "load_dotenv()\n",
    "\n",
    "# assign .env variable to python variable\n",
    "db_user = os.getenv('DB_USER')\n",
    "db_password = os.getenv('DB_PASSWORD')\n",
    "db_host = os.getenv('DB_HOST')\n",
    "db_port = os.getenv('DB_PORT')\n",
    "db_name = os.getenv('DB_NAME')\n",
    "\n",
    "#  Create SQLAlchemy engine\n",
    "engine = create_engine(f'postgresql://{db_user}:{db_password}@{db_host}:{db_port}/{db_name}')\n",
    "\n",
    "# Read GeoDataFrame\n",
    "gdf = gpd.read_file('path/to/your/shapefile.shp')\n",
    "\n",
    "# Pust GeoDataFrame to POSTGIS\n",
    "gdf.to_postgis(name='your_table_name', con=engine, if_exists='replace', index=False)\n",
    "\n",
    "print(\"Success\")\n",
    "\n",
    "\n",
    "```"
   ]
  },
  {
   "cell_type": "code",
   "execution_count": 11,
   "id": "a9d6defe-533a-45eb-991b-88b5cbf19b6c",
   "metadata": {},
   "outputs": [],
   "source": []
  },
  {
   "cell_type": "code",
   "execution_count": null,
   "id": "8cb94c08-6902-4dd4-bf9c-6810e1ed77c7",
   "metadata": {},
   "outputs": [],
   "source": []
  }
 ],
 "metadata": {
  "kernelspec": {
   "display_name": "Python 3 (ipykernel)",
   "language": "python",
   "name": "python3"
  },
  "language_info": {
   "codemirror_mode": {
    "name": "ipython",
    "version": 3
   },
   "file_extension": ".py",
   "mimetype": "text/x-python",
   "name": "python",
   "nbconvert_exporter": "python",
   "pygments_lexer": "ipython3",
   "version": "3.12.5"
  }
 },
 "nbformat": 4,
 "nbformat_minor": 5
}
