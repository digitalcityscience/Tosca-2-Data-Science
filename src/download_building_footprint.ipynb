{
 "cells": [
  {
   "cell_type": "code",
   "execution_count": 3,
   "id": "313848f1-e2a0-40eb-b83e-e4f471dc7a65",
   "metadata": {
    "scrolled": true
   },
   "outputs": [],
   "source": [
    "import pandas as pd\n",
    "import geopandas as gpd\n",
    "from shapely import geometry\n",
    "import mercantile\n",
    "from tqdm import tqdm\n",
    "import os\n",
    "import tempfile"
   ]
  },
  {
   "cell_type": "markdown",
   "id": "3598059d-14dd-4899-878a-c447f12836b4",
   "metadata": {},
   "source": []
  },
  {
   "cell_type": "markdown",
   "id": "27cbcb98-f2a2-453a-871b-d77e42793254",
   "metadata": {},
   "source": [
    "## Step 1 - Define our area of interest (AOI)\n",
    "We define our area of interest (or AOI) as a GeoJSON geometry, then use the shapely library to get the bounding box.\n",
    "\n",
    "Note: the coordinate reference system for the GeoJSON should be \"EPSG:4326\", i.e. in global lat/lon format.\n"
   ]
  },
  {
   "cell_type": "code",
   "execution_count": 4,
   "id": "437b6767-ef67-465f-8fd3-86b55b4a9947",
   "metadata": {},
   "outputs": [],
   "source": [
    "# Geometry copied from https://geojson.io\n",
    "aoi_geom = {\n",
    "        \"coordinates\": [\n",
    "          [\n",
    "            [\n",
    "              76.17035694034428,\n",
    "              10.151854651807724\n",
    "            ],\n",
    "            [\n",
    "              76.17035694034428,\n",
    "              9.437998857456364\n",
    "            ],\n",
    "            [\n",
    "              76.49615511095192,\n",
    "              9.437998857456364\n",
    "            ],\n",
    "            [\n",
    "              76.49615511095192,\n",
    "              10.151854651807724\n",
    "            ],\n",
    "            [\n",
    "              76.17035694034428,\n",
    "              10.151854651807724\n",
    "            ]\n",
    "          ]\n",
    "        ],\n",
    "        \"type\": \"Polygon\"\n",
    "      }\n",
    "aoi_shape = geometry.shape(aoi_geom)\n",
    "minx, miny, maxx, maxy = aoi_shape.bounds\n",
    "\n",
    "output_fn = \"./geo_data/kochi_microsoft_building.geojson\""
   ]
  },
  {
   "cell_type": "markdown",
   "id": "0c155aa5-abb4-43d2-91d2-5c0e33f05c8a",
   "metadata": {},
   "source": [
    "## Step 2 - Determine which tiles intersect our AOI"
   ]
  },
  {
   "cell_type": "code",
   "execution_count": 5,
   "id": "1edc7cfa-695c-4af1-af90-154b48b01c94",
   "metadata": {},
   "outputs": [
    {
     "name": "stdout",
     "output_type": "stream",
     "text": [
      "The input area spans 2 tiles: ['123321102', '123321120']\n"
     ]
    }
   ],
   "source": [
    "quad_keys = set()\n",
    "for tile in list(mercantile.tiles(minx, miny, maxx, maxy, zooms=9)):\n",
    "    quad_keys.add(mercantile.quadkey(tile))\n",
    "quad_keys = list(quad_keys)\n",
    "print(f\"The input area spans {len(quad_keys)} tiles: {quad_keys}\")"
   ]
  },
  {
   "cell_type": "markdown",
   "id": "2de8bf0a-fcea-4c06-a249-222504cddc43",
   "metadata": {},
   "source": [
    "\n",
    "## Step 3 - Download the building footprints for each tile that intersects our AOI and crop the results\n",
    "\n",
    "This is where most of the magic happens. We download all the building footprints for each tile that intersects our AOI, then only keep the footprints that are contained by our AOI.\n",
    "\n",
    "Note: this step might take awhile depending on how many tiles your AOI covers and how many buildings footprints are in those tiles.\n"
   ]
  },
  {
   "cell_type": "code",
   "execution_count": 6,
   "id": "5a415811-8234-4d28-b17f-2a399b66185d",
   "metadata": {},
   "outputs": [
    {
     "data": {
      "text/html": [
       "<div>\n",
       "<style scoped>\n",
       "    .dataframe tbody tr th:only-of-type {\n",
       "        vertical-align: middle;\n",
       "    }\n",
       "\n",
       "    .dataframe tbody tr th {\n",
       "        vertical-align: top;\n",
       "    }\n",
       "\n",
       "    .dataframe thead th {\n",
       "        text-align: right;\n",
       "    }\n",
       "</style>\n",
       "<table border=\"1\" class=\"dataframe\">\n",
       "  <thead>\n",
       "    <tr style=\"text-align: right;\">\n",
       "      <th></th>\n",
       "      <th>Location</th>\n",
       "      <th>QuadKey</th>\n",
       "      <th>Url</th>\n",
       "      <th>Size</th>\n",
       "    </tr>\n",
       "  </thead>\n",
       "  <tbody>\n",
       "    <tr>\n",
       "      <th>0</th>\n",
       "      <td>Abyei</td>\n",
       "      <td>122321003</td>\n",
       "      <td>https://minedbuildings.blob.core.windows.net/g...</td>\n",
       "      <td>4.9KB</td>\n",
       "    </tr>\n",
       "    <tr>\n",
       "      <th>1</th>\n",
       "      <td>Abyei</td>\n",
       "      <td>122321021</td>\n",
       "      <td>https://minedbuildings.blob.core.windows.net/g...</td>\n",
       "      <td>7.9KB</td>\n",
       "    </tr>\n",
       "    <tr>\n",
       "      <th>2</th>\n",
       "      <td>Afghanistan</td>\n",
       "      <td>123011320</td>\n",
       "      <td>https://minedbuildings.blob.core.windows.net/g...</td>\n",
       "      <td>70.1KB</td>\n",
       "    </tr>\n",
       "    <tr>\n",
       "      <th>3</th>\n",
       "      <td>Afghanistan</td>\n",
       "      <td>123011321</td>\n",
       "      <td>https://minedbuildings.blob.core.windows.net/g...</td>\n",
       "      <td>1.3MB</td>\n",
       "    </tr>\n",
       "    <tr>\n",
       "      <th>4</th>\n",
       "      <td>Afghanistan</td>\n",
       "      <td>123011322</td>\n",
       "      <td>https://minedbuildings.blob.core.windows.net/g...</td>\n",
       "      <td>4.1MB</td>\n",
       "    </tr>\n",
       "  </tbody>\n",
       "</table>\n",
       "</div>"
      ],
      "text/plain": [
       "      Location    QuadKey                                                Url  \\\n",
       "0        Abyei  122321003  https://minedbuildings.blob.core.windows.net/g...   \n",
       "1        Abyei  122321021  https://minedbuildings.blob.core.windows.net/g...   \n",
       "2  Afghanistan  123011320  https://minedbuildings.blob.core.windows.net/g...   \n",
       "3  Afghanistan  123011321  https://minedbuildings.blob.core.windows.net/g...   \n",
       "4  Afghanistan  123011322  https://minedbuildings.blob.core.windows.net/g...   \n",
       "\n",
       "     Size  \n",
       "0   4.9KB  \n",
       "1   7.9KB  \n",
       "2  70.1KB  \n",
       "3   1.3MB  \n",
       "4   4.1MB  "
      ]
     },
     "execution_count": 6,
     "metadata": {},
     "output_type": "execute_result"
    }
   ],
   "source": [
    "df = pd.read_csv(\n",
    "    \"https://minedbuildings.blob.core.windows.net/global-buildings/dataset-links.csv\", dtype=str\n",
    ")\n",
    "df.head()"
   ]
  },
  {
   "cell_type": "code",
   "execution_count": 16,
   "id": "efed0419-631e-47ab-9903-8533502bd2a7",
   "metadata": {},
   "outputs": [
    {
     "name": "stderr",
     "output_type": "stream",
     "text": [
      "  0%|                                                                                                                                                                                                                                                     | 0/2 [00:00<?, ?it/s]"
     ]
    },
    {
     "name": "stdout",
     "output_type": "stream",
     "text": [
      "Multiple rows found for QuadKey: 123321102. Selecting the first one.\n"
     ]
    },
    {
     "name": "stderr",
     "output_type": "stream",
     "text": [
      " 50%|██████████████████████████████████████████████████████████████████████████████████████████████████████████████████████▌                                                                                                                      | 1/2 [00:00<00:00,  1.39it/s]"
     ]
    },
    {
     "name": "stdout",
     "output_type": "stream",
     "text": [
      "Multiple rows found for QuadKey: 123321120. Selecting the first one.\n"
     ]
    },
    {
     "name": "stderr",
     "output_type": "stream",
     "text": [
      "100%|█████████████████████████████████████████████████████████████████████████████████████████████████████████████████████████████████████████████████████████████████████████████████████████████████████████████████████████████████████████████| 2/2 [00:01<00:00,  1.24it/s]\n"
     ]
    }
   ],
   "source": [
    "idx = 0\n",
    "combined_gdf = gpd.GeoDataFrame()\n",
    "with tempfile.TemporaryDirectory() as tmpdir:\n",
    "    # Download the GeoJSON files for each tile that intersects the input geometry\n",
    "    tmp_fns = []\n",
    "    for quad_key in tqdm(quad_keys):\n",
    "        rows = df[df[\"QuadKey\"] == quad_key]\n",
    "        if rows.shape[0] == 1:\n",
    "            url = rows.iloc[0][\"Url\"]\n",
    "\n",
    "            df2 = pd.read_json(url, lines=True)\n",
    "            df2[\"geometry\"] = df2[\"geometry\"].apply(geometry.shape)\n",
    "\n",
    "            gdf = gpd.GeoDataFrame(df2, crs=4326)\n",
    "            fn = os.path.join(tmpdir, f\"{quad_key}.geojson\")\n",
    "            tmp_fns.append(fn)\n",
    "            if not os.path.exists(fn):\n",
    "                gdf.to_file(fn, driver=\"GeoJSON\")\n",
    "        elif rows.shape[0] > 1:\n",
    "            #raise ValueError(f\"Multiple rows found for QuadKey: {quad_key}\")\n",
    "            print(f\"Multiple rows found for QuadKey: {quad_key}. Selecting the first one.\")\n",
    "            url = rows.iloc[0][\"Url\"]  # İlk satırı seçtik\n",
    "            df2 = pd.read_json(url, lines=True)\n",
    "\n",
    "            df2[\"geometry\"] = df2[\"geometry\"].apply(geometry.shape)\n",
    "            gdf = gpd.GeoDataFrame(df2, crs=4326)\n",
    "            fn = os.path.join(tmpdir, f\"{quad_key}.geojson\")\n",
    "            tmp_fns.append(fn)\n",
    "\n",
    "            if not os.path.exists(fn):\n",
    "                gdf.to_file(fn, driver=\"GeoJSON\")\n",
    "        else:\n",
    "            raise ValueError(f\"QuadKey not found in dataset: {quad_key}\")\n",
    "\n",
    "    # Merge the GeoJSON files into a single file\n",
    "    for fn in tmp_fns:\n",
    "        gdf = gpd.read_file(fn)  # Read each file into a GeoDataFrame\n",
    "        #gdf = gdf[gdf.geometry.within(aoi_shape)]  # Filter geometries within the AOI\n",
    "        gdf['id'] = range(idx, idx + len(gdf))  # Update 'id' based on idx\n",
    "        idx += len(gdf)\n",
    "        combined_gdf = pd.concat([combined_gdf,gdf],ignore_index=True)"
   ]
  },
  {
   "cell_type": "code",
   "execution_count": 17,
   "id": "357d02b1-7f67-43b7-96aa-c4b52669cd79",
   "metadata": {},
   "outputs": [
    {
     "data": {
      "text/plain": [
       "634"
      ]
     },
     "execution_count": 17,
     "metadata": {},
     "output_type": "execute_result"
    }
   ],
   "source": [
    "len(combined_gdf)"
   ]
  },
  {
   "cell_type": "markdown",
   "id": "86a60208-bc18-4a62-ab04-f240dd44767d",
   "metadata": {},
   "source": [
    "\n",
    "## Step 4 - Save the resulting footprints to file\n"
   ]
  },
  {
   "cell_type": "code",
   "execution_count": null,
   "id": "d4580822-0385-43d1-a851-7d19ae6c60de",
   "metadata": {},
   "outputs": [],
   "source": []
  },
  {
   "cell_type": "code",
   "execution_count": 18,
   "id": "2d81cf2d-1767-4941-bc6f-b9bc262da065",
   "metadata": {},
   "outputs": [],
   "source": [
    "combined_gdf = combined_gdf.to_crs('EPSG:4326')\n",
    "combined_gdf.to_file(output_fn, driver='GeoJSON')"
   ]
  },
  {
   "cell_type": "code",
   "execution_count": null,
   "id": "ad4d2024-5773-4d8d-8f76-f0f70a9f80af",
   "metadata": {},
   "outputs": [],
   "source": []
  }
 ],
 "metadata": {
  "kernelspec": {
   "display_name": "Python 3 (ipykernel)",
   "language": "python",
   "name": "python3"
  },
  "language_info": {
   "codemirror_mode": {
    "name": "ipython",
    "version": 3
   },
   "file_extension": ".py",
   "mimetype": "text/x-python",
   "name": "python",
   "nbconvert_exporter": "python",
   "pygments_lexer": "ipython3",
   "version": "3.12.5"
  }
 },
 "nbformat": 4,
 "nbformat_minor": 5
}
