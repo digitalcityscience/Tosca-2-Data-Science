{
 "cells": [
  {
   "cell_type": "code",
   "execution_count": 33,
   "id": "572b03b0-f233-433f-95eb-a5470afc7ba5",
   "metadata": {},
   "outputs": [],
   "source": [
    "import geopandas as gpd\n",
    "import pandas as pd\n",
    "import numpy as np\n",
    "from shapely.geometry import Point\n",
    "\n",
    "# 1. Nokta verilerinizi okuyun\n",
    "data_directory = '/home/jovyan/local/Desktop/HCU/TOSCA-2/data/geo-data/kochi_lamps.gpkg'  # Verilerinizin bulunduğu dizini belirtin\n",
    "gdf = gpd.read_file(data_directory)\n",
    "\n",
    "# 2. Rastgele değerler oluşturun\n",
    "np.random.seed(42)  # Rastgeleliği tekrar edilebilir hale getirmek için\n",
    "\n",
    "# 'type' sütununu rastgele atayın\n",
    "gdf['type'] = np.random.choice(['LED', 'Fluorescent'], size=len(gdf))\n",
    "\n",
    "# 'range' sütununu rastgele atayın\n",
    "def assign_range(row):\n",
    "    if row['type'] == 'LED':\n",
    "        return np.random.choice([30, 40, 50])  # LED için rastgele değerler\n",
    "    else:\n",
    "        return 20  # Fluorescent için sabit değer\n",
    "\n",
    "gdf['range'] = gdf.apply(assign_range, axis=1)\n"
   ]
  },
  {
   "cell_type": "code",
   "execution_count": 34,
   "id": "3170a10b-6644-4884-9c1f-c0a9a763d094",
   "metadata": {},
   "outputs": [],
   "source": [
    "gdf = gdf.drop(columns=['TYPE',\"NAME\",\"index\"])"
   ]
  },
  {
   "cell_type": "code",
   "execution_count": 31,
   "id": "d5e3b16d-7d28-41e3-904d-ff9c7c7043ab",
   "metadata": {},
   "outputs": [
    {
     "data": {
      "text/html": [
       "<div>\n",
       "<style scoped>\n",
       "    .dataframe tbody tr th:only-of-type {\n",
       "        vertical-align: middle;\n",
       "    }\n",
       "\n",
       "    .dataframe tbody tr th {\n",
       "        vertical-align: top;\n",
       "    }\n",
       "\n",
       "    .dataframe thead th {\n",
       "        text-align: right;\n",
       "    }\n",
       "</style>\n",
       "<table border=\"1\" class=\"dataframe\">\n",
       "  <thead>\n",
       "    <tr style=\"text-align: right;\">\n",
       "      <th></th>\n",
       "      <th>rand_point_id</th>\n",
       "      <th>index</th>\n",
       "      <th>geometry</th>\n",
       "      <th>type</th>\n",
       "      <th>range</th>\n",
       "    </tr>\n",
       "  </thead>\n",
       "  <tbody>\n",
       "    <tr>\n",
       "      <th>0</th>\n",
       "      <td>15</td>\n",
       "      <td>3</td>\n",
       "      <td>POINT (628288.384 1127155.886)</td>\n",
       "      <td>LED</td>\n",
       "      <td>40</td>\n",
       "    </tr>\n",
       "    <tr>\n",
       "      <th>1</th>\n",
       "      <td>16</td>\n",
       "      <td>3</td>\n",
       "      <td>POINT (627191.741 1130446.018)</td>\n",
       "      <td>Fluorescent</td>\n",
       "      <td>20</td>\n",
       "    </tr>\n",
       "    <tr>\n",
       "      <th>2</th>\n",
       "      <td>17</td>\n",
       "      <td>3</td>\n",
       "      <td>POINT (628169.043 1127438.306)</td>\n",
       "      <td>LED</td>\n",
       "      <td>40</td>\n",
       "    </tr>\n",
       "    <tr>\n",
       "      <th>3</th>\n",
       "      <td>18</td>\n",
       "      <td>3</td>\n",
       "      <td>POINT (627251.032 1129218.423)</td>\n",
       "      <td>LED</td>\n",
       "      <td>40</td>\n",
       "    </tr>\n",
       "    <tr>\n",
       "      <th>4</th>\n",
       "      <td>19</td>\n",
       "      <td>3</td>\n",
       "      <td>POINT (630535.645 1131287.028)</td>\n",
       "      <td>LED</td>\n",
       "      <td>40</td>\n",
       "    </tr>\n",
       "  </tbody>\n",
       "</table>\n",
       "</div>"
      ],
      "text/plain": [
       "   rand_point_id  index                        geometry         type  range\n",
       "0             15      3  POINT (628288.384 1127155.886)          LED     40\n",
       "1             16      3  POINT (627191.741 1130446.018)  Fluorescent     20\n",
       "2             17      3  POINT (628169.043 1127438.306)          LED     40\n",
       "3             18      3  POINT (627251.032 1129218.423)          LED     40\n",
       "4             19      3  POINT (630535.645 1131287.028)          LED     40"
      ]
     },
     "execution_count": 31,
     "metadata": {},
     "output_type": "execute_result"
    }
   ],
   "source": [
    "gdf.head()"
   ]
  },
  {
   "cell_type": "code",
   "execution_count": 36,
   "id": "0a166158-190f-48ac-80e4-70664ec7d698",
   "metadata": {},
   "outputs": [
    {
     "data": {
      "text/plain": [
       "array(['LED', 'Fluorescent'], dtype=object)"
      ]
     },
     "execution_count": 36,
     "metadata": {},
     "output_type": "execute_result"
    }
   ],
   "source": [
    "gdf[\"type\"].unique()"
   ]
  },
  {
   "cell_type": "code",
   "execution_count": 25,
   "id": "360397fd-2e98-45f0-8f4e-2da0afa7e36c",
   "metadata": {},
   "outputs": [
    {
     "name": "stdout",
     "output_type": "stream",
     "text": [
      "Index(['rand_point_id', 'geometry', 'type', 'range'], dtype='object')\n"
     ]
    }
   ],
   "source": [
    "print(gdf.columns)"
   ]
  },
  {
   "cell_type": "code",
   "execution_count": 24,
   "id": "9b5518aa-ab2f-4c30-9c0b-d84a64f4fd61",
   "metadata": {},
   "outputs": [],
   "source": [
    "gdf.to_file('kochi_street_light.gpkg', driver='GPKG', layer='streetlights')"
   ]
  },
  {
   "cell_type": "code",
   "execution_count": null,
   "id": "709696a1-dbcf-4ec9-8b11-52ec0a1f5dc2",
   "metadata": {},
   "outputs": [],
   "source": []
  }
 ],
 "metadata": {
  "kernelspec": {
   "display_name": "Python 3 (ipykernel)",
   "language": "python",
   "name": "python3"
  },
  "language_info": {
   "codemirror_mode": {
    "name": "ipython",
    "version": 3
   },
   "file_extension": ".py",
   "mimetype": "text/x-python",
   "name": "python",
   "nbconvert_exporter": "python",
   "pygments_lexer": "ipython3",
   "version": "3.12.5"
  }
 },
 "nbformat": 4,
 "nbformat_minor": 5
}
