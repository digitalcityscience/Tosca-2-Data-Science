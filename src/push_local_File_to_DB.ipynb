{
 "cells": [
  {
   "cell_type": "code",
   "execution_count": 1,
   "id": "c3a331ee-9231-4f0b-a963-b694d48b361c",
   "metadata": {},
   "outputs": [
    {
     "data": {
      "text/plain": [
       "True"
      ]
     },
     "execution_count": 1,
     "metadata": {},
     "output_type": "execute_result"
    }
   ],
   "source": [
    "import os\n",
    "from dotenv import load_dotenv\n",
    "import geopandas as gpd\n",
    "from sqlalchemy import create_engine\n",
    "# Upload .env  into system\n",
    "load_dotenv()\n"
   ]
  },
  {
   "cell_type": "code",
   "execution_count": 2,
   "id": "f0ee9a75-b5d0-40eb-998c-101a993f2074",
   "metadata": {},
   "outputs": [],
   "source": [
    "# assign .env variable to python variable\n",
    "db_user = os.getenv('DB_USER')\n",
    "db_password = os.getenv('DB_PASSWORD')\n",
    "db_host = os.getenv('DB_HOST')\n",
    "db_port = os.getenv('DB_PORT')\n",
    "db_name = os.getenv('DB_NAME')\n",
    "\n",
    "#  Create SQLAlchemy engine\n",
    "engine = create_engine(f'postgresql://{db_user}:{db_password}@{db_host}:{db_port}/{db_name}')\n"
   ]
  },
  {
   "cell_type": "markdown",
   "id": "dce2ed2a-e1a8-4ecc-8ae2-576badcb49a4",
   "metadata": {},
   "source": [
    "# Push Only Spesific Data\n"
   ]
  },
  {
   "cell_type": "code",
   "execution_count": 5,
   "id": "881a2bc1-69ec-4ce1-95db-71dd385bbcaf",
   "metadata": {
    "scrolled": true
   },
   "outputs": [
    {
     "name": "stdout",
     "output_type": "stream",
     "text": [
      "Successfully pushed Kochi_Buildings.gpkg to the database as table Kochi_Buildings.\n"
     ]
    }
   ],
   "source": [
    "# Directory containing the .shp and .gpkg files\n",
    "#data_directory = '/home/jovyan/local/Desktop/HCU/TOSCA-2/data/geo-data/kochi'\n",
    "data_directory=\"./geo_data\"\n",
    "# Define specific files as a list, e.g., ['file1.shp', 'file2.gpkg']\n",
    "specific_files = ['Kochi_Buildings.gpkg']  # Modify this list as needed\n",
    "\n",
    "# Loop through all .shp and .gpkg files in the specified directory\n",
    "for filename in os.listdir(data_directory):\n",
    "    # Check if the file is in the user's list or if the list is empty\n",
    "    if specific_files and filename not in specific_files:\n",
    "        continue\n",
    "\n",
    "    # Construct the full path to the file\n",
    "    file_path = os.path.join(data_directory, filename)\n",
    "    \n",
    "    try:\n",
    "        # Load the file into a GeoDataFrame\n",
    "        gdf = gpd.read_file(file_path)\n",
    "\n",
    "        # Define the name of the table to save in the database\n",
    "        table_name = os.path.splitext(filename)[0]  # Remove the file extension\n",
    "        \n",
    "        # Push the GeoDataFrame to the PostgreSQL database\n",
    "        gdf.to_postgis(name=table_name, con=engine, if_exists='replace', index=True)\n",
    "        \n",
    "        print(f\"Successfully pushed {filename} to the database as table {table_name}.\")\n",
    "    \n",
    "    except Exception as e:\n",
    "        print(f\"Error processing {filename}: {e}\")\n"
   ]
  },
  {
   "cell_type": "markdown",
   "id": "8636b846-cb1f-4c0b-beeb-e65af43509ab",
   "metadata": {},
   "source": [
    "## Push All Data Within Folder"
   ]
  },
  {
   "cell_type": "code",
   "execution_count": 4,
   "id": "87404c08-aa21-4fe9-bcb3-cbd29bd4b9c1",
   "metadata": {},
   "outputs": [],
   "source": [
    "def check_geometries(gdf):\n",
    "    \"\"\"Check for valid geometries in the GeoDataFrame.\"\"\"\n",
    "    invalid_geometries = gdf[~gdf.geometry.is_valid]\n",
    "    if not invalid_geometries.empty:\n",
    "        print(f\"Warning: Found {len(invalid_geometries)} invalid geometries.\")\n",
    "        for idx, geom in invalid_geometries.iterrows():\n",
    "            print(f\"!!!!!!!!!!!!!!! Invalid geometry at index {idx} !!!!!!!!!!!!!!!!!!!!\")\n",
    "        return False\n",
    "    return True\n"
   ]
  },
  {
   "cell_type": "code",
   "execution_count": 5,
   "id": "efbd41e1-b2e2-4655-8f89-9528ffbc3e29",
   "metadata": {
    "scrolled": true
   },
   "outputs": [
    {
     "name": "stdout",
     "output_type": "stream",
     "text": [
      "Successfully pushed supermarket.gpkg to the database as table HH_supermarket.\n",
      "Successfully pushed haltestellen.gpkg to the database as table HH_haltestellen.\n",
      "Warning: Found 18 invalid geometries.\n",
      "!!!!!!!!!!!!!!! Invalid geometry at index 10 !!!!!!!!!!!!!!!!!!!!\n",
      "!!!!!!!!!!!!!!! Invalid geometry at index 11 !!!!!!!!!!!!!!!!!!!!\n",
      "!!!!!!!!!!!!!!! Invalid geometry at index 12 !!!!!!!!!!!!!!!!!!!!\n",
      "!!!!!!!!!!!!!!! Invalid geometry at index 48 !!!!!!!!!!!!!!!!!!!!\n",
      "!!!!!!!!!!!!!!! Invalid geometry at index 53 !!!!!!!!!!!!!!!!!!!!\n",
      "!!!!!!!!!!!!!!! Invalid geometry at index 56 !!!!!!!!!!!!!!!!!!!!\n",
      "!!!!!!!!!!!!!!! Invalid geometry at index 128 !!!!!!!!!!!!!!!!!!!!\n",
      "!!!!!!!!!!!!!!! Invalid geometry at index 134 !!!!!!!!!!!!!!!!!!!!\n",
      "!!!!!!!!!!!!!!! Invalid geometry at index 147 !!!!!!!!!!!!!!!!!!!!\n",
      "!!!!!!!!!!!!!!! Invalid geometry at index 155 !!!!!!!!!!!!!!!!!!!!\n",
      "!!!!!!!!!!!!!!! Invalid geometry at index 156 !!!!!!!!!!!!!!!!!!!!\n",
      "!!!!!!!!!!!!!!! Invalid geometry at index 157 !!!!!!!!!!!!!!!!!!!!\n",
      "!!!!!!!!!!!!!!! Invalid geometry at index 158 !!!!!!!!!!!!!!!!!!!!\n",
      "!!!!!!!!!!!!!!! Invalid geometry at index 260 !!!!!!!!!!!!!!!!!!!!\n",
      "!!!!!!!!!!!!!!! Invalid geometry at index 354 !!!!!!!!!!!!!!!!!!!!\n",
      "!!!!!!!!!!!!!!! Invalid geometry at index 363 !!!!!!!!!!!!!!!!!!!!\n",
      "!!!!!!!!!!!!!!! Invalid geometry at index 370 !!!!!!!!!!!!!!!!!!!!\n",
      "!!!!!!!!!!!!!!! Invalid geometry at index 372 !!!!!!!!!!!!!!!!!!!!\n",
      "!!!!! Skipping counties.gpkg due to invalid geometries. !!!!!!\n",
      "Successfully pushed drive_network.gpkg to the database as table HH_drive_network.\n",
      "Successfully pushed stadtteile.gpkg to the database as table HH_stadtteile.\n",
      "Successfully pushed kita.gpkg to the database as table HH_kita.\n",
      "Error processing elbvertiefung.gpkg: '/home/jovyan/src/geo_data/hh/elbvertiefung.gpkg' not recognized as being in a supported file format. It might help to specify the correct driver explicitly by prefixing the file path with '<DRIVER>:', e.g. 'CSV:path'.\n",
      "Successfully pushed metro_station.gpkg to the database as table HH_metro_station.\n",
      "Warning: Found 18 invalid geometries.\n",
      "!!!!!!!!!!!!!!! Invalid geometry at index 41 !!!!!!!!!!!!!!!!!!!!\n",
      "!!!!!!!!!!!!!!! Invalid geometry at index 47 !!!!!!!!!!!!!!!!!!!!\n",
      "!!!!!!!!!!!!!!! Invalid geometry at index 60 !!!!!!!!!!!!!!!!!!!!\n",
      "!!!!!!!!!!!!!!! Invalid geometry at index 68 !!!!!!!!!!!!!!!!!!!!\n",
      "!!!!!!!!!!!!!!! Invalid geometry at index 69 !!!!!!!!!!!!!!!!!!!!\n",
      "!!!!!!!!!!!!!!! Invalid geometry at index 70 !!!!!!!!!!!!!!!!!!!!\n",
      "!!!!!!!!!!!!!!! Invalid geometry at index 71 !!!!!!!!!!!!!!!!!!!!\n",
      "!!!!!!!!!!!!!!! Invalid geometry at index 174 !!!!!!!!!!!!!!!!!!!!\n",
      "!!!!!!!!!!!!!!! Invalid geometry at index 268 !!!!!!!!!!!!!!!!!!!!\n",
      "!!!!!!!!!!!!!!! Invalid geometry at index 277 !!!!!!!!!!!!!!!!!!!!\n",
      "!!!!!!!!!!!!!!! Invalid geometry at index 284 !!!!!!!!!!!!!!!!!!!!\n",
      "!!!!!!!!!!!!!!! Invalid geometry at index 286 !!!!!!!!!!!!!!!!!!!!\n",
      "!!!!!!!!!!!!!!! Invalid geometry at index 324 !!!!!!!!!!!!!!!!!!!!\n",
      "!!!!!!!!!!!!!!! Invalid geometry at index 325 !!!!!!!!!!!!!!!!!!!!\n",
      "!!!!!!!!!!!!!!! Invalid geometry at index 326 !!!!!!!!!!!!!!!!!!!!\n",
      "!!!!!!!!!!!!!!! Invalid geometry at index 362 !!!!!!!!!!!!!!!!!!!!\n",
      "!!!!!!!!!!!!!!! Invalid geometry at index 367 !!!!!!!!!!!!!!!!!!!!\n",
      "!!!!!!!!!!!!!!! Invalid geometry at index 370 !!!!!!!!!!!!!!!!!!!!\n",
      "!!!!! Skipping counties_daily.gpkg due to invalid geometries. !!!!!!\n",
      "Successfully pushed pop.gpkg to the database as table HH_pop.\n",
      "Successfully pushed krankenhaus.gpkg to the database as table HH_krankenhaus.\n",
      "Successfully pushed bezirke.gpkg to the database as table HH_bezirke.\n",
      "Successfully pushed apotheken.gpkg to the database as table HH_apotheken.\n",
      "Successfully pushed gemarkungen.gpkg to the database as table HH_gemarkungen.\n",
      "Successfully pushed bike_network.gpkg to the database as table HH_bike_network.\n"
     ]
    }
   ],
   "source": [
    "data_directory = '/home/jovyan/src/geo_data/hh'\n",
    "\n",
    "# Loop through all files in the specified directory\n",
    "for filename in os.listdir(data_directory):\n",
    "    # Check if the file is a .shp or .gpkg file\n",
    "    if filename.endswith('.shp') or filename.endswith('.gpkg'):\n",
    "        # Construct the full path to the file\n",
    "        file_path = os.path.join(data_directory, filename)\n",
    "        \n",
    "        try:\n",
    "            # Load the file into a GeoDataFrame\n",
    "            gdf = gpd.read_file(file_path)\n",
    "            if not check_geometries(gdf):\n",
    "                print(f\"!!!!! Skipping {filename} due to invalid geometries. !!!!!!\")\n",
    "                continue\n",
    "\n",
    "            # Define the name of the table to save in the database\n",
    "            table_name = f\"HH_{os.path.splitext(filename)[0]}\"  # Remove the file extension\n",
    "            \n",
    "            # Push the GeoDataFrame to the PostgreSQL database\n",
    "            gdf.to_postgis(name=table_name, con=engine, if_exists='replace', index=True)\n",
    "            \n",
    "            print(f\"Successfully pushed {filename} to the database as table {table_name}.\")\n",
    "        \n",
    "        except Exception as e:\n",
    "            print(f\"Error processing {filename}: {e}\")"
   ]
  },
  {
   "cell_type": "code",
   "execution_count": 44,
   "id": "720f9098-08c6-48de-9ede-b60dc26f63a9",
   "metadata": {},
   "outputs": [
    {
     "name": "stdout",
     "output_type": "stream",
     "text": [
      "Warning: Found 3 invalid geometries.\n",
      "!!!!!!!!!!!!!!! Invalid geometry at index 2 !!!!!!!!!!!!!!!!!!!!\n",
      "!!!!!!!!!!!!!!! Invalid geometry at index 5 !!!!!!!!!!!!!!!!!!!!\n",
      "!!!!!!!!!!!!!!! Invalid geometry at index 7 !!!!!!!!!!!!!!!!!!!!\n",
      "!!!!! Skipping Chennai_Wards.shp due to invalid geometries. !!!!!!\n",
      "Error processing Chennai_Roadways.shp: (psycopg2.OperationalError) server closed the connection unexpectedly\n",
      "\tThis probably means the server terminated abnormally\n",
      "\tbefore or while processing the request.\n",
      "\n",
      "[SQL: SELECT pg_catalog.pg_class.relname \n",
      "FROM pg_catalog.pg_class JOIN pg_catalog.pg_namespace ON pg_catalog.pg_namespace.oid = pg_catalog.pg_class.relnamespace \n",
      "WHERE pg_catalog.pg_class.relname = %(table_name)s AND pg_catalog.pg_class.relkind = ANY (ARRAY[%(param_1)s, %(param_2)s, %(param_3)s, %(param_4)s, %(param_5)s]) AND pg_catalog.pg_namespace.nspname = %(nspname_1)s]\n",
      "[parameters: {'table_name': 'Chennai_Roadways', 'param_1': 'r', 'param_2': 'p', 'param_3': 'f', 'param_4': 'v', 'param_5': 'm', 'nspname_1': 'public'}]\n",
      "(Background on this error at: https://sqlalche.me/e/20/e3q8)\n",
      "Warning: Found 5 invalid geometries.\n",
      "!!!!!!!!!!!!!!! Invalid geometry at index 4 !!!!!!!!!!!!!!!!!!!!\n",
      "!!!!!!!!!!!!!!! Invalid geometry at index 113 !!!!!!!!!!!!!!!!!!!!\n",
      "!!!!!!!!!!!!!!! Invalid geometry at index 154 !!!!!!!!!!!!!!!!!!!!\n",
      "!!!!!!!!!!!!!!! Invalid geometry at index 392 !!!!!!!!!!!!!!!!!!!!\n",
      "!!!!!!!!!!!!!!! Invalid geometry at index 704 !!!!!!!!!!!!!!!!!!!!\n",
      "!!!!! Skipping Chennai_inlandwaters.shp due to invalid geometries. !!!!!!\n",
      "Successfully pushed Chennai_Floodproneareas.shp to the database as table Chennai_Floodproneareas.\n",
      "Successfully pushed Chennai_Riverstreams.shp to the database as table Chennai_Riverstreams.\n",
      "Successfully pushed Chennai_Macrodrains.shp to the database as table Chennai_Macrodrains.\n",
      "Successfully pushed Chennai_coastline.shp to the database as table Chennai_coastline.\n",
      "Successfully pushed Chennai_Waste_bins.shp to the database as table Chennai_Waste_bins.\n",
      "Successfully pushed Chennai_flood_crowd_data.shp to the database as table Chennai_flood_crowd_data.\n",
      "Successfully pushed Chennai_Stagnation_Points.shp to the database as table Chennai_Stagnation_Points.\n",
      "Successfully pushed Chennai_MTRS.shp to the database as table Chennai_MTRS.\n"
     ]
    }
   ],
   "source": [
    "data_directory = '/home/jovyan/local/Desktop/HCU/TOSCA-2/data/geo-data/Chennai'\n",
    "\n",
    "# Loop through all files in the specified directory\n",
    "for filename in os.listdir(data_directory):\n",
    "    # Check if the file is a .shp or .gpkg file\n",
    "    if filename.endswith('.shp') or filename.endswith('.gpkg'):\n",
    "        # Construct the full path to the file\n",
    "        file_path = os.path.join(data_directory, filename)\n",
    "        \n",
    "        try:\n",
    "            # Load the file into a GeoDataFrame\n",
    "            gdf = gpd.read_file(file_path)\n",
    "            if not check_geometries(gdf):\n",
    "                print(f\"!!!!! Skipping {filename} due to invalid geometries. !!!!!!\")\n",
    "                continue\n",
    "\n",
    "            # Define the name of the table to save in the database\n",
    "            table_name = f\"{os.path.splitext(filename)[0]}\"  # Remove the file extension\n",
    "            \n",
    "            # Push the GeoDataFrame to the PostgreSQL database\n",
    "            gdf.to_postgis(name=table_name, con=engine, if_exists='replace', index=True)\n",
    "            \n",
    "            print(f\"Successfully pushed {filename} to the database as table {table_name}.\")\n",
    "        \n",
    "        except Exception as e:\n",
    "            print(f\"Error processing {filename}: {e}\")"
   ]
  },
  {
   "cell_type": "code",
   "execution_count": 46,
   "id": "802de67f-9d54-449e-8376-d49008b72fb7",
   "metadata": {},
   "outputs": [
    {
     "name": "stdout",
     "output_type": "stream",
     "text": [
      "Successfully pushed BUS_STOP.gpkg to the database as table Kochi_BUS_STOP.\n",
      "Successfully pushed kochi_street_light.gpkg to the database as table Kochi_kochi_street_light.\n",
      "Successfully pushed Heritage_structures.gpkg to the database as table Kochi_Heritage_structures.\n",
      "Successfully pushed Open_Space.gpkg to the database as table Kochi_Open_Space.\n",
      "Successfully pushed Metro_station.gpkg to the database as table Kochi_Metro_station.\n"
     ]
    }
   ],
   "source": [
    "####  !!!!!!!!!!!!!!! CAREFUL DATANAME IS DIFFERENT !!!!!!!!!!!!!!!!!!!!\n",
    "data_directory = '/home/jovyan/local/Desktop/HCU/TOSCA-2/data/geo-data/kochi2'\n",
    "\n",
    "# Loop through all files in the specified directory\n",
    "for filename in os.listdir(data_directory):\n",
    "    # Check if the file is a .shp or .gpkg file\n",
    "    if filename.endswith('.shp') or filename.endswith('.gpkg'):\n",
    "        # Construct the full path to the file\n",
    "        file_path = os.path.join(data_directory, filename)\n",
    "        \n",
    "        try:\n",
    "            # Load the file into a GeoDataFrame\n",
    "            gdf = gpd.read_file(file_path)\n",
    "            if not check_geometries(gdf):\n",
    "                print(f\"!!!!! Skipping {filename} due to invalid geometries. !!!!!!\")\n",
    "                continue\n",
    "\n",
    "            # Define the name of the table to save in the database\n",
    "            table_name = f\"Kochi_{os.path.splitext(filename)[0]}\"  # Remove the file extension\n",
    "            \n",
    "            # Push the GeoDataFrame to the PostgreSQL database\n",
    "            gdf.to_postgis(name=table_name, con=engine, if_exists='replace', index=True)\n",
    "            \n",
    "            print(f\"Successfully pushed {filename} to the database as table {table_name}.\")\n",
    "        \n",
    "        except Exception as e:\n",
    "            print(f\"Error processing {filename}: {e}\")"
   ]
  },
  {
   "cell_type": "code",
   "execution_count": null,
   "id": "d59b60da-8113-4c3e-82a4-da6a21cae64f",
   "metadata": {},
   "outputs": [],
   "source": []
  },
  {
   "cell_type": "code",
   "execution_count": null,
   "id": "d5de9377-bdd2-46e5-8f7d-1177c2d37e45",
   "metadata": {},
   "outputs": [],
   "source": []
  },
  {
   "cell_type": "code",
   "execution_count": null,
   "id": "7e785645-85ab-4f94-8785-fa03d1a27a70",
   "metadata": {},
   "outputs": [],
   "source": []
  }
 ],
 "metadata": {
  "kernelspec": {
   "display_name": "Python 3 (ipykernel)",
   "language": "python",
   "name": "python3"
  },
  "language_info": {
   "codemirror_mode": {
    "name": "ipython",
    "version": 3
   },
   "file_extension": ".py",
   "mimetype": "text/x-python",
   "name": "python",
   "nbconvert_exporter": "python",
   "pygments_lexer": "ipython3",
   "version": "3.12.5"
  }
 },
 "nbformat": 4,
 "nbformat_minor": 5
}
