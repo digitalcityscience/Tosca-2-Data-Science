{
 "cells": [
  {
   "cell_type": "code",
   "execution_count": 6,
   "id": "81300118-7696-4064-b164-afd7fa1a4d3b",
   "metadata": {
    "scrolled": true
   },
   "outputs": [],
   "source": [
    "#pip install -U leafmap\n",
    "#!pip install -U \"leafmap[maplibre]\" "
   ]
  },
  {
   "cell_type": "code",
   "execution_count": 2,
   "id": "773085cf-af6c-4ed7-879f-1285d88056f9",
   "metadata": {
    "scrolled": true
   },
   "outputs": [
    {
     "name": "stdout",
     "output_type": "stream",
     "text": [
      "Collecting pmtiles\n",
      "  Downloading pmtiles-3.4.0.tar.gz (14 kB)\n",
      "  Preparing metadata (setup.py) ... \u001b[?25ldone\n",
      "\u001b[?25hBuilding wheels for collected packages: pmtiles\n",
      "  Building wheel for pmtiles (setup.py) ... \u001b[?25ldone\n",
      "\u001b[?25h  Created wheel for pmtiles: filename=pmtiles-3.4.0-py3-none-any.whl size=15824 sha256=442c88f87646107e96d0af0e8b15ae303339fb31935bbab4c3534af3cf965bb0\n",
      "  Stored in directory: /home/jovyan/.cache/pip/wheels/3e/e6/77/ee3101b88e5ce2ab2763da21e13f801068346d703a66554e7c\n",
      "Successfully built pmtiles\n",
      "Installing collected packages: pmtiles\n",
      "Successfully installed pmtiles-3.4.0\n"
     ]
    }
   ],
   "source": [
    "#!pip install pmtiles"
   ]
  },
  {
   "cell_type": "code",
   "execution_count": 7,
   "id": "5ae33081-c701-407f-932e-5803608c1917",
   "metadata": {},
   "outputs": [],
   "source": [
    "import leafmap.maplibregl as leafmap"
   ]
  },
  {
   "cell_type": "code",
   "execution_count": 8,
   "id": "5c1c8920-a473-4020-ab19-409090630bc4",
   "metadata": {},
   "outputs": [],
   "source": [
    "url=\"https://data.source.coop/vida/google-microsoft-open-buildings/pmtiles/goog_msft_country_layers.pmtiles\""
   ]
  },
  {
   "cell_type": "code",
   "execution_count": 9,
   "id": "f639e572-5c74-48ec-97ae-4ef924166da1",
   "metadata": {},
   "outputs": [
    {
     "name": "stdout",
     "output_type": "stream",
     "text": [
      "layer names: ['AFG', 'AGO', 'ALB', 'AND', 'ARE', 'ARG', 'ARM', 'ATG', 'AUS', 'AUT', 'AZE', 'BDI', 'BEL', 'BEN', 'BFA', 'BGD', 'BGR', 'BHR', 'BHS', 'BIH', 'BLR', 'BLZ', 'BOL', 'BRA', 'BRB', 'BRN', 'BTN', 'BWA', 'CAF', 'CAN', 'CHE', 'CHL', 'CHN', 'CIV', 'CMR', 'COD', 'COG', 'COL', 'COM', 'CPV', 'CRI', 'CUB', 'CYP', 'CZE', 'DEU', 'DJI', 'DMA', 'DNK', 'DOM', 'DZA', 'ECU', 'EGY', 'ERI', 'ESH', 'ESP', 'EST', 'ETH', 'FIN', 'FRA', 'GAB', 'GBR', 'GEO', 'GHA', 'GIN', 'GMB', 'GNB', 'GNQ', 'GRC', 'GRD', 'GTM', 'GUY', 'HND', 'HRV', 'HTI', 'HUN', 'IDN', 'IND', 'IRL', 'IRN', 'IRQ', 'ISL', 'ISR', 'ITA', 'JAM', 'JOR', 'JPN', 'KAZ', 'KEN', 'KGZ', 'KHM', 'KNA', 'KWT', 'LAO', 'LBN', 'LBR', 'LBY', 'LCA', 'LIE', 'LKA', 'LSO', 'LTU', 'LUX', 'LVA', 'MAR', 'MCO', 'MDA', 'MDG', 'MDV', 'MEX', 'MKD', 'MLI', 'MLT', 'MMR', 'MNE', 'MNG', 'MOZ', 'MRT', 'MUS', 'MWI', 'MYS', 'NAM', 'NER', 'NGA', 'NIC', 'NLD', 'NOR', 'NPL', 'OMN', 'PAK', 'PAN', 'PER', 'PHL', 'PNG', 'POL', 'PRK', 'PRT', 'PRY', 'QAT', 'ROU', 'RUS', 'RWA', 'SAU', 'SDN', 'SEN', 'SGP', 'SLE', 'SLV', 'SMR', 'SOM', 'SRB', 'SSD', 'STP', 'SUR', 'SVK', 'SVN', 'SWE', 'SWZ', 'SYC', 'SYR', 'TCD', 'TGO', 'THA', 'TJK', 'TKM', 'TLS', 'TTO', 'TUN', 'TUR', 'TZA', 'UGA', 'UKR', 'URY', 'USA', 'UZB', 'VAT', 'VCT', 'VEN', 'VNM', 'XKX', 'YEM', 'ZAF', 'ZMB', 'ZWE']\n",
      "bounds: [-160.2246089, -55.979945, 166.717529, 80.753556]\n"
     ]
    }
   ],
   "source": [
    "metadata = leafmap.pmtiles_metadata(url)\n",
    "print(f\"layer names: {metadata['layer_names']}\")\n",
    "print(f\"bounds: {metadata['bounds']}\")"
   ]
  },
  {
   "cell_type": "code",
   "execution_count": 15,
   "id": "d5c5fda8-0d04-4f64-b454-1d129ea2c86e",
   "metadata": {},
   "outputs": [
    {
     "data": {
      "text/plain": [
       "\u001b[0;31mType:\u001b[0m        dict\n",
       "\u001b[0;31mString form:\u001b[0m {'name': 'google_microsoft20240528_building_footprints', 'format': 'pbf', 'type': 'overlay', 'des <...> , 'center': [-9.384031, 142.624512], 'bounds': [-160.2246089, -55.979945, 166.717529, 80.753556]}\n",
       "\u001b[0;31mLength:\u001b[0m      15\n",
       "\u001b[0;31mDocstring:\u001b[0m  \n",
       "dict() -> new empty dictionary\n",
       "dict(mapping) -> new dictionary initialized from a mapping object's\n",
       "    (key, value) pairs\n",
       "dict(iterable) -> new dictionary initialized as if via:\n",
       "    d = {}\n",
       "    for k, v in iterable:\n",
       "        d[k] = v\n",
       "dict(**kwargs) -> new dictionary initialized with the name=value pairs\n",
       "    in the keyword argument list.  For example:  dict(one=1, two=2)"
      ]
     },
     "metadata": {},
     "output_type": "display_data"
    }
   ],
   "source": [
    "metadata?"
   ]
  },
  {
   "cell_type": "code",
   "execution_count": 10,
   "id": "ff11256e-7e63-43b8-98fb-aee1acfdeba8",
   "metadata": {},
   "outputs": [
    {
     "name": "stdout",
     "output_type": "stream",
     "text": [
      "Layer names: ['AFG', 'AGO', 'ALB', 'AND', 'ARE', 'ARG', 'ARM', 'ATG', 'AUS', 'AUT', 'AZE', 'BDI', 'BEL', 'BEN', 'BFA', 'BGD', 'BGR', 'BHR', 'BHS', 'BIH', 'BLR', 'BLZ', 'BOL', 'BRA', 'BRB', 'BRN', 'BTN', 'BWA', 'CAF', 'CAN', 'CHE', 'CHL', 'CHN', 'CIV', 'CMR', 'COD', 'COG', 'COL', 'COM', 'CPV', 'CRI', 'CUB', 'CYP', 'CZE', 'DEU', 'DJI', 'DMA', 'DNK', 'DOM', 'DZA', 'ECU', 'EGY', 'ERI', 'ESH', 'ESP', 'EST', 'ETH', 'FIN', 'FRA', 'GAB', 'GBR', 'GEO', 'GHA', 'GIN', 'GMB', 'GNB', 'GNQ', 'GRC', 'GRD', 'GTM', 'GUY', 'HND', 'HRV', 'HTI', 'HUN', 'IDN', 'IND', 'IRL', 'IRN', 'IRQ', 'ISL', 'ISR', 'ITA', 'JAM', 'JOR', 'JPN', 'KAZ', 'KEN', 'KGZ', 'KHM', 'KNA', 'KWT', 'LAO', 'LBN', 'LBR', 'LBY', 'LCA', 'LIE', 'LKA', 'LSO', 'LTU', 'LUX', 'LVA', 'MAR', 'MCO', 'MDA', 'MDG', 'MDV', 'MEX', 'MKD', 'MLI', 'MLT', 'MMR', 'MNE', 'MNG', 'MOZ', 'MRT', 'MUS', 'MWI', 'MYS', 'NAM', 'NER', 'NGA', 'NIC', 'NLD', 'NOR', 'NPL', 'OMN', 'PAK', 'PAN', 'PER', 'PHL', 'PNG', 'POL', 'PRK', 'PRT', 'PRY', 'QAT', 'ROU', 'RUS', 'RWA', 'SAU', 'SDN', 'SEN', 'SGP', 'SLE', 'SLV', 'SMR', 'SOM', 'SRB', 'SSD', 'STP', 'SUR', 'SVK', 'SVN', 'SWE', 'SWZ', 'SYC', 'SYR', 'TCD', 'TGO', 'THA', 'TJK', 'TKM', 'TLS', 'TTO', 'TUN', 'TUR', 'TZA', 'UGA', 'UKR', 'URY', 'USA', 'UZB', 'VAT', 'VCT', 'VEN', 'VNM', 'XKX', 'YEM', 'ZAF', 'ZMB', 'ZWE']\n"
     ]
    },
    {
     "ename": "AttributeError",
     "evalue": "module 'leafmap' has no attribute 'pmtiles'",
     "output_type": "error",
     "traceback": [
      "\u001b[0;31m---------------------------------------------------------------------------\u001b[0m",
      "\u001b[0;31mAttributeError\u001b[0m                            Traceback (most recent call last)",
      "Cell \u001b[0;32mIn[10], line 13\u001b[0m\n\u001b[1;32m     10\u001b[0m \u001b[38;5;66;03m# Check if 'IND' is in the layer names\u001b[39;00m\n\u001b[1;32m     11\u001b[0m \u001b[38;5;28;01mif\u001b[39;00m \u001b[38;5;124m'\u001b[39m\u001b[38;5;124mIND\u001b[39m\u001b[38;5;124m'\u001b[39m \u001b[38;5;129;01min\u001b[39;00m layer_names:\n\u001b[1;32m     12\u001b[0m     \u001b[38;5;66;03m# Load the layer for India\u001b[39;00m\n\u001b[0;32m---> 13\u001b[0m     india_layer \u001b[38;5;241m=\u001b[39m \u001b[43mleafmap\u001b[49m\u001b[38;5;241;43m.\u001b[39;49m\u001b[43mpmtiles\u001b[49m(url, layer\u001b[38;5;241m=\u001b[39m\u001b[38;5;124m'\u001b[39m\u001b[38;5;124mIND\u001b[39m\u001b[38;5;124m'\u001b[39m)\n\u001b[1;32m     15\u001b[0m     \u001b[38;5;66;03m# Export the layer to a GeoPackage (or any other format)\u001b[39;00m\n\u001b[1;32m     16\u001b[0m     output_file \u001b[38;5;241m=\u001b[39m \u001b[38;5;124m'\u001b[39m\u001b[38;5;124mindia_layer.gpkg\u001b[39m\u001b[38;5;124m'\u001b[39m  \u001b[38;5;66;03m# Specify the output file name\u001b[39;00m\n",
      "\u001b[0;31mAttributeError\u001b[0m: module 'leafmap' has no attribute 'pmtiles'"
     ]
    }
   ],
   "source": [
    "import leafmap\n",
    "\n",
    "# URL for the PMTiles source\n",
    "url=\"https://data.source.coop/vida/google-microsoft-open-buildings/pmtiles/goog_msft_country_layers.pmtiles\"\n",
    "# Get metadata\n",
    "metadata = leafmap.pmtiles_metadata(url)\n",
    "layer_names = metadata['layer_names']\n",
    "print(f\"Layer names: {layer_names}\")\n",
    "\n",
    "# Check if 'IND' is in the layer names\n",
    "if 'IND' in layer_names:\n",
    "    # Load the layer for India\n",
    "    india_layer = leafmap.pmtiles(url, layer='IND')\n",
    "\n",
    "    # Export the layer to a GeoPackage (or any other format)\n",
    "    output_file = 'india_layer.gpkg'  # Specify the output file name\n",
    "    india_layer.to_file(output_file, driver='GPKG')\n",
    "\n",
    "    print(f\"Successfully exported the 'IND' layer to {output_file}.\")\n",
    "else:\n",
    "    print(\"'IND' layer not found in the available layers.\")\n"
   ]
  },
  {
   "cell_type": "code",
   "execution_count": 12,
   "id": "081912f9-b9f1-4bb7-b052-a255a8632241",
   "metadata": {},
   "outputs": [
    {
     "data": {
      "text/plain": [
       "\u001b[0;31mSignature:\u001b[0m \u001b[0mleafmap\u001b[0m\u001b[0;34m.\u001b[0m\u001b[0mpmtiles_metadata\u001b[0m\u001b[0;34m(\u001b[0m\u001b[0minput_file\u001b[0m\u001b[0;34m:\u001b[0m \u001b[0mstr\u001b[0m\u001b[0;34m)\u001b[0m \u001b[0;34m->\u001b[0m \u001b[0mDict\u001b[0m\u001b[0;34m[\u001b[0m\u001b[0mstr\u001b[0m\u001b[0;34m,\u001b[0m \u001b[0mUnion\u001b[0m\u001b[0;34m[\u001b[0m\u001b[0mstr\u001b[0m\u001b[0;34m,\u001b[0m \u001b[0mint\u001b[0m\u001b[0;34m,\u001b[0m \u001b[0mList\u001b[0m\u001b[0;34m[\u001b[0m\u001b[0mstr\u001b[0m\u001b[0;34m]\u001b[0m\u001b[0;34m]\u001b[0m\u001b[0;34m]\u001b[0m\u001b[0;34m\u001b[0m\u001b[0;34m\u001b[0m\u001b[0m\n",
       "\u001b[0;31mDocstring:\u001b[0m\n",
       "Fetch the metadata from a local or remote .pmtiles file.\n",
       "\n",
       "This function retrieves metadata from a PMTiles file, whether it's local or hosted remotely.\n",
       "If it's remote, the function fetches the header to determine the range of bytes to download\n",
       "for obtaining the metadata. It then reads the metadata and extracts the layer names.\n",
       "\n",
       "Args:\n",
       "    input_file (str): Path to the .pmtiles file, or its URL if the file is hosted remotely.\n",
       "\n",
       "Returns:\n",
       "    dict: A dictionary containing the metadata information, including layer names.\n",
       "\n",
       "Raises:\n",
       "    ImportError: If the pmtiles library is not installed.\n",
       "    ValueError: If the input file is not a .pmtiles file or if it does not exist.\n",
       "\n",
       "Example:\n",
       "    >>> metadata = pmtiles_metadata(\"https://example.com/path/to/tiles.pmtiles\")\n",
       "    >>> print(metadata[\"layer_names\"])\n",
       "    ['buildings', 'roads']\n",
       "\n",
       "Note:\n",
       "    If fetching a remote PMTiles file, this function may perform multiple requests to minimize\n",
       "    the amount of data downloaded.\n",
       "\u001b[0;31mFile:\u001b[0m      /srv/conda/envs/notebook/lib/python3.12/site-packages/leafmap/common.py\n",
       "\u001b[0;31mType:\u001b[0m      function"
      ]
     },
     "metadata": {},
     "output_type": "display_data"
    }
   ],
   "source": [
    "leafmap.pmtiles_metadata?"
   ]
  },
  {
   "cell_type": "code",
   "execution_count": 13,
   "id": "ab139ce9-4097-44d6-83fb-5a4c69a44b1f",
   "metadata": {},
   "outputs": [
    {
     "name": "stdout",
     "output_type": "stream",
     "text": [
      "/bin/bash: line 1: pmtiles: command not found\n"
     ]
    }
   ],
   "source": [
    "!pmtiles extract"
   ]
  },
  {
   "cell_type": "code",
   "execution_count": null,
   "id": "e34974c3-4998-4a1f-b477-5fe2ee54910c",
   "metadata": {},
   "outputs": [],
   "source": []
  }
 ],
 "metadata": {
  "kernelspec": {
   "display_name": "Python 3 (ipykernel)",
   "language": "python",
   "name": "python3"
  },
  "language_info": {
   "codemirror_mode": {
    "name": "ipython",
    "version": 3
   },
   "file_extension": ".py",
   "mimetype": "text/x-python",
   "name": "python",
   "nbconvert_exporter": "python",
   "pygments_lexer": "ipython3",
   "version": "3.12.5"
  }
 },
 "nbformat": 4,
 "nbformat_minor": 5
}
